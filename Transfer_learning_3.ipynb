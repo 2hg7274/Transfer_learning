{
 "cells": [
  {
   "attachments": {},
   "cell_type": "markdown",
   "metadata": {},
   "source": [
    "# 소규모 데이터셋으로 심층신경망 학습하기 3탄"
   ]
  },
  {
   "attachments": {},
   "cell_type": "markdown",
   "metadata": {},
   "source": [
    "# 미세 조정 (Fine-tuning)\n",
    "1) 미세 조정이란?  \n",
    "- 이전 편에서 수행했던 특성 추출 모델을 조금 더 우리의 데이터에 맞게 보완하는 과정  \n",
    "- 특성 추출 모델에서 동결했던 상위 몇 개의 층을 해제하여 새로 추가한 FC 레이어와 함께 훈련시키는 방법  \n",
    "- 사전 학습된 모델의 일부를 조정하기 때문에 미세 조정이라고 불림  \n",
    "\n",
    "![fine_tuning](https://s3.amazonaws.com/book.keras.io/img/ch5/vgg16_fine_tuning.png)\n",
    "#### 미세 조정 단계  \n",
    "1. 사전에 훈련된 기반 네트워크 위에 새로운 네트워크를 추가한다.  \n",
    "2. 기반 네트워크를 동결한다.  \n",
    "3. 새로 추가한 네트워크를 훈련한다.  \n",
    "4. 기반 네트워크에서 일부 층의 동결을 해제한다.  \n",
    "5. 동결을 해제한 층과 새로 추가한 층을 함께 훈련한다.  \n",
    "\n",
    "- 처음 세 단계는 특성 추출을 할 때 완료  \n",
    "- 네 번째 단계인 conv_base의 동결을 해제하고 개별 층을 동결"
   ]
  },
  {
   "attachments": {},
   "cell_type": "markdown",
   "metadata": {},
   "source": [
    "## 2) VGG 16 구조 확인 \n",
    "```python\n",
    "tf.keras.applications.VGG16(\n",
    "    include_top=True,\n",
    "    weights=\"imagenet\",\n",
    "    input_tensor=None,\n",
    "    input_shape=None,\n",
    "    pooling=None,\n",
    "    classes=1000,\n",
    "    classifier_activation=\"softmax\",\n",
    ")\n",
    "```\n",
    "- weights : 초기화할 가중치 값  \n",
    "('None' : 랜덤 초기화 / 'imagenet' : imagenet으로 사전 훈련된 가중치 / path : 가중치값을 포함한 파일)  \n",
    "- incldue_top : 최상위 완전 연결 레이어(Fully Connected Layer; FC) 포함/비포함 여부 (default=True)  \n",
    "- input_shape : 입력 사이즈"
   ]
  },
  {
   "cell_type": "code",
   "execution_count": 2,
   "metadata": {},
   "outputs": [],
   "source": [
    "from tensorflow.keras.applications import VGG16\n",
    "\n",
    "conv_base = VGG16(\n",
    "    weights='imagenet',\n",
    "    include_top=False,\n",
    "    input_shape=(150,150,3))"
   ]
  },
  {
   "cell_type": "code",
   "execution_count": 3,
   "metadata": {},
   "outputs": [
    {
     "name": "stdout",
     "output_type": "stream",
     "text": [
      "Model: \"vgg16\"\n",
      "_________________________________________________________________\n",
      "Layer (type)                 Output Shape              Param #   \n",
      "=================================================================\n",
      "input_2 (InputLayer)         [(None, 150, 150, 3)]     0         \n",
      "_________________________________________________________________\n",
      "block1_conv1 (Conv2D)        (None, 150, 150, 64)      1792      \n",
      "_________________________________________________________________\n",
      "block1_conv2 (Conv2D)        (None, 150, 150, 64)      36928     \n",
      "_________________________________________________________________\n",
      "block1_pool (MaxPooling2D)   (None, 75, 75, 64)        0         \n",
      "_________________________________________________________________\n",
      "block2_conv1 (Conv2D)        (None, 75, 75, 128)       73856     \n",
      "_________________________________________________________________\n",
      "block2_conv2 (Conv2D)        (None, 75, 75, 128)       147584    \n",
      "_________________________________________________________________\n",
      "block2_pool (MaxPooling2D)   (None, 37, 37, 128)       0         \n",
      "_________________________________________________________________\n",
      "block3_conv1 (Conv2D)        (None, 37, 37, 256)       295168    \n",
      "_________________________________________________________________\n",
      "block3_conv2 (Conv2D)        (None, 37, 37, 256)       590080    \n",
      "_________________________________________________________________\n",
      "block3_conv3 (Conv2D)        (None, 37, 37, 256)       590080    \n",
      "_________________________________________________________________\n",
      "block3_pool (MaxPooling2D)   (None, 18, 18, 256)       0         \n",
      "_________________________________________________________________\n",
      "block4_conv1 (Conv2D)        (None, 18, 18, 512)       1180160   \n",
      "_________________________________________________________________\n",
      "block4_conv2 (Conv2D)        (None, 18, 18, 512)       2359808   \n",
      "_________________________________________________________________\n",
      "block4_conv3 (Conv2D)        (None, 18, 18, 512)       2359808   \n",
      "_________________________________________________________________\n",
      "block4_pool (MaxPooling2D)   (None, 9, 9, 512)         0         \n",
      "_________________________________________________________________\n",
      "block5_conv1 (Conv2D)        (None, 9, 9, 512)         2359808   \n",
      "_________________________________________________________________\n",
      "block5_conv2 (Conv2D)        (None, 9, 9, 512)         2359808   \n",
      "_________________________________________________________________\n",
      "block5_conv3 (Conv2D)        (None, 9, 9, 512)         2359808   \n",
      "_________________________________________________________________\n",
      "block5_pool (MaxPooling2D)   (None, 4, 4, 512)         0         \n",
      "=================================================================\n",
      "Total params: 14,714,688\n",
      "Trainable params: 14,714,688\n",
      "Non-trainable params: 0\n",
      "_________________________________________________________________\n"
     ]
    }
   ],
   "source": [
    "# 기반층 구조 재확인\n",
    "conv_base.summary()"
   ]
  },
  {
   "attachments": {},
   "cell_type": "markdown",
   "metadata": {},
   "source": [
    "마지막 3개의 합성곱 층(block5_conv1 ~ conv3)을 미세 조정한다.  \n",
    "block_4까지는 그대로 두고 그 후의 block5_con1 ~ conv3는 학습의 대상이 된다. "
   ]
  },
  {
   "cell_type": "code",
   "execution_count": 4,
   "metadata": {},
   "outputs": [],
   "source": [
    "from tensorflow.keras import models, layers\n",
    "\n",
    "model = models.Sequential()\n",
    "model.add(conv_base)\n",
    "model.add(layers.Flatten())\n",
    "model.add(layers.Dense(256, activation='relu'))\n",
    "model.add(layers.Dense(1, activation='sigmoid'))"
   ]
  },
  {
   "cell_type": "code",
   "execution_count": 5,
   "metadata": {},
   "outputs": [],
   "source": [
    "conv_base.trainable = True\n",
    "\n",
    "set_trainable = False\n",
    "for layer in conv_base.layers:\n",
    "    if layer.name == 'block5_conv1':\n",
    "        set_trainable = True\n",
    "    if set_trainable:\n",
    "        layer.trainable = True\n",
    "    else:\n",
    "        layer.trainable = False"
   ]
  },
  {
   "cell_type": "code",
   "execution_count": 7,
   "metadata": {},
   "outputs": [
    {
     "name": "stdout",
     "output_type": "stream",
     "text": [
      "Found 2000 images belonging to 2 classes.\n",
      "Found 1000 images belonging to 2 classes.\n"
     ]
    }
   ],
   "source": [
    "# 모델 훈련\n",
    "import os\n",
    "import os.path as osp\n",
    "from tensorflow.keras.preprocessing.image import ImageDataGenerator\n",
    "from tensorflow.keras import optimizers\n",
    "\n",
    "base_dir = '/Transfer Learning/datasets_small'\n",
    "\n",
    "train_dir = os.path.join(base_dir, 'train')\n",
    "validation_dir = os.path.join(base_dir, 'val')\n",
    "test_dir = os.path.join(base_dir, 'test')\n",
    "\n",
    "train_datagen = ImageDataGenerator(\n",
    "    rescale=1./255,\n",
    "    rotation_range=20,\n",
    "    width_shift_range=0.1,\n",
    "    height_shift_range=0.1,\n",
    "    shear_range=0.1,\n",
    "    zoom_range=0.1,\n",
    "    horizontal_flip=True,\n",
    "    fill_mode='nearest')\n",
    "\n",
    "test_datagen = ImageDataGenerator(rescale=1./255)\n",
    "\n",
    "\n",
    "train_generator = train_datagen.flow_from_directory(\n",
    "    train_dir,\n",
    "    target_size=(150,150),\n",
    "    batch_size=20, \n",
    "    class_mode='binary')\n",
    "\n",
    "validation_genertor = test_datagen.flow_from_directory(\n",
    "    validation_dir, \n",
    "    target_size=(150,150),\n",
    "    batch_size=20,\n",
    "    class_mode='binary')"
   ]
  },
  {
   "cell_type": "code",
   "execution_count": 8,
   "metadata": {},
   "outputs": [
    {
     "name": "stderr",
     "output_type": "stream",
     "text": [
      "/Users/hanhyeongu/miniforge3/envs/hg/lib/python3.8/site-packages/tensorflow/python/keras/engine/training.py:1940: UserWarning: `Model.fit_generator` is deprecated and will be removed in a future version. Please use `Model.fit`, which supports generators.\n",
      "  warnings.warn('`Model.fit_generator` is deprecated and '\n",
      "2022-12-19 14:11:05.637527: I tensorflow/compiler/mlir/mlir_graph_optimization_pass.cc:176] None of the MLIR Optimization Passes are enabled (registered 2)\n",
      "2022-12-19 14:11:05.637701: W tensorflow/core/platform/profile_utils/cpu_utils.cc:128] Failed to get CPU frequency: 0 Hz\n"
     ]
    },
    {
     "name": "stdout",
     "output_type": "stream",
     "text": [
      "Epoch 1/30\n"
     ]
    },
    {
     "name": "stderr",
     "output_type": "stream",
     "text": [
      "2022-12-19 14:11:06.049993: I tensorflow/core/grappler/optimizers/custom_graph_optimizer_registry.cc:112] Plugin optimizer for device_type GPU is enabled.\n"
     ]
    },
    {
     "name": "stdout",
     "output_type": "stream",
     "text": [
      "100/100 [==============================] - ETA: 0s - loss: 0.4821 - acc: 0.7750"
     ]
    },
    {
     "name": "stderr",
     "output_type": "stream",
     "text": [
      "2022-12-19 14:11:17.550588: I tensorflow/core/grappler/optimizers/custom_graph_optimizer_registry.cc:112] Plugin optimizer for device_type GPU is enabled.\n"
     ]
    },
    {
     "name": "stdout",
     "output_type": "stream",
     "text": [
      "100/100 [==============================] - 16s 145ms/step - loss: 0.4821 - acc: 0.7750 - val_loss: 0.3014 - val_acc: 0.8710\n",
      "Epoch 2/30\n",
      "100/100 [==============================] - 14s 141ms/step - loss: 0.3029 - acc: 0.8665 - val_loss: 0.2392 - val_acc: 0.9010\n",
      "Epoch 3/30\n",
      "100/100 [==============================] - 14s 142ms/step - loss: 0.2437 - acc: 0.9010 - val_loss: 0.2024 - val_acc: 0.9120\n",
      "Epoch 4/30\n",
      "100/100 [==============================] - 14s 142ms/step - loss: 0.2081 - acc: 0.9145 - val_loss: 0.2114 - val_acc: 0.9130\n",
      "Epoch 5/30\n",
      "100/100 [==============================] - 14s 141ms/step - loss: 0.1776 - acc: 0.9310 - val_loss: 0.1851 - val_acc: 0.9290\n",
      "Epoch 6/30\n",
      "100/100 [==============================] - 14s 142ms/step - loss: 0.1607 - acc: 0.9345 - val_loss: 0.2194 - val_acc: 0.9020\n",
      "Epoch 7/30\n",
      "100/100 [==============================] - 14s 142ms/step - loss: 0.1517 - acc: 0.9440 - val_loss: 0.1832 - val_acc: 0.9260\n",
      "Epoch 8/30\n",
      "100/100 [==============================] - 14s 142ms/step - loss: 0.1382 - acc: 0.9480 - val_loss: 0.2018 - val_acc: 0.9220\n",
      "Epoch 9/30\n",
      "100/100 [==============================] - 14s 142ms/step - loss: 0.1288 - acc: 0.9485 - val_loss: 0.1749 - val_acc: 0.9290\n",
      "Epoch 10/30\n",
      "100/100 [==============================] - 14s 142ms/step - loss: 0.1138 - acc: 0.9545 - val_loss: 0.1757 - val_acc: 0.9360\n",
      "Epoch 11/30\n",
      "100/100 [==============================] - 14s 142ms/step - loss: 0.1046 - acc: 0.9625 - val_loss: 0.1678 - val_acc: 0.9390\n",
      "Epoch 12/30\n",
      "100/100 [==============================] - 14s 142ms/step - loss: 0.0865 - acc: 0.9670 - val_loss: 0.2063 - val_acc: 0.9190\n",
      "Epoch 13/30\n",
      "100/100 [==============================] - 14s 142ms/step - loss: 0.0924 - acc: 0.9615 - val_loss: 0.1862 - val_acc: 0.9290\n",
      "Epoch 14/30\n",
      "100/100 [==============================] - 14s 143ms/step - loss: 0.0826 - acc: 0.9680 - val_loss: 0.2168 - val_acc: 0.9170\n",
      "Epoch 15/30\n",
      "100/100 [==============================] - 14s 143ms/step - loss: 0.0678 - acc: 0.9735 - val_loss: 0.1732 - val_acc: 0.9320\n",
      "Epoch 16/30\n",
      "100/100 [==============================] - 14s 143ms/step - loss: 0.0675 - acc: 0.9750 - val_loss: 0.1757 - val_acc: 0.9340\n",
      "Epoch 17/30\n",
      "100/100 [==============================] - 14s 143ms/step - loss: 0.0552 - acc: 0.9825 - val_loss: 0.2351 - val_acc: 0.9190\n",
      "Epoch 18/30\n",
      "100/100 [==============================] - 14s 142ms/step - loss: 0.0561 - acc: 0.9795 - val_loss: 0.1837 - val_acc: 0.9340\n",
      "Epoch 19/30\n",
      "100/100 [==============================] - 14s 142ms/step - loss: 0.0520 - acc: 0.9800 - val_loss: 0.2367 - val_acc: 0.9130\n",
      "Epoch 20/30\n",
      "100/100 [==============================] - 14s 142ms/step - loss: 0.0510 - acc: 0.9825 - val_loss: 0.1874 - val_acc: 0.9320\n",
      "Epoch 21/30\n",
      "100/100 [==============================] - 14s 142ms/step - loss: 0.0452 - acc: 0.9845 - val_loss: 0.2010 - val_acc: 0.9320\n",
      "Epoch 22/30\n",
      "100/100 [==============================] - 14s 142ms/step - loss: 0.0371 - acc: 0.9870 - val_loss: 0.1954 - val_acc: 0.9410\n",
      "Epoch 23/30\n",
      "100/100 [==============================] - 14s 142ms/step - loss: 0.0361 - acc: 0.9845 - val_loss: 0.1976 - val_acc: 0.9300\n",
      "Epoch 24/30\n",
      "100/100 [==============================] - 14s 142ms/step - loss: 0.0350 - acc: 0.9890 - val_loss: 0.1919 - val_acc: 0.9390\n",
      "Epoch 25/30\n",
      "100/100 [==============================] - 14s 142ms/step - loss: 0.0349 - acc: 0.9880 - val_loss: 0.1940 - val_acc: 0.9390\n",
      "Epoch 26/30\n",
      "100/100 [==============================] - 14s 142ms/step - loss: 0.0394 - acc: 0.9850 - val_loss: 0.2403 - val_acc: 0.9190\n",
      "Epoch 27/30\n",
      "100/100 [==============================] - 14s 142ms/step - loss: 0.0269 - acc: 0.9915 - val_loss: 0.2326 - val_acc: 0.9200\n",
      "Epoch 28/30\n",
      "100/100 [==============================] - 14s 142ms/step - loss: 0.0350 - acc: 0.9880 - val_loss: 0.2034 - val_acc: 0.9310\n",
      "Epoch 29/30\n",
      "100/100 [==============================] - 14s 142ms/step - loss: 0.0299 - acc: 0.9900 - val_loss: 0.2010 - val_acc: 0.9410\n",
      "Epoch 30/30\n",
      "100/100 [==============================] - 14s 141ms/step - loss: 0.0218 - acc: 0.9920 - val_loss: 0.2036 - val_acc: 0.9340\n"
     ]
    }
   ],
   "source": [
    "model.compile(\n",
    "    optimizer=optimizers.RMSprop(learning_rate=1e-5),\n",
    "    loss='binary_crossentropy',\n",
    "    metrics=['acc'])\n",
    "\n",
    "history = model.fit_generator(\n",
    "    train_generator,\n",
    "    steps_per_epoch=100,\n",
    "    epochs=30,\n",
    "    validation_data=validation_genertor,\n",
    "    validation_steps=50)"
   ]
  },
  {
   "cell_type": "code",
   "execution_count": 9,
   "metadata": {},
   "outputs": [],
   "source": [
    "model.save('./cats_and_dogs_small_4.h5')"
   ]
  },
  {
   "cell_type": "code",
   "execution_count": 10,
   "metadata": {},
   "outputs": [
    {
     "data": {
      "image/png": "[encoded data removed]",
      "text/plain": [
       "<Figure size 640x480 with 1 Axes>"
      ]
     },
     "metadata": {},
     "output_type": "display_data"
    },
    {
     "data": {
      "image/png": "[encoded data removed]",
      "text/plain": [
       "<Figure size 640x480 with 1 Axes>"
      ]
     },
     "metadata": {},
     "output_type": "display_data"
    }
   ],
   "source": [
    "# 시각화\n",
    "import matplotlib.pyplot as plt\n",
    "acc = history.history['acc']\n",
    "val_acc = history.history['val_acc']\n",
    "loss = history.history['loss']\n",
    "val_loss = history.history['val_loss']\n",
    "\n",
    "epochs = range(len(acc))\n",
    "\n",
    "plt.plot(epochs, acc, 'bo', label='Training acc')\n",
    "plt.plot(epochs, val_acc, 'b', label='Validation acc')\n",
    "plt.title('Training and validation accuracy')\n",
    "plt.legend()\n",
    "\n",
    "plt.figure()\n",
    "\n",
    "plt.plot(epochs, loss, 'bo', label='Training loss')\n",
    "plt.plot(epochs, val_loss, 'b', label='Validation loss')\n",
    "plt.title('Training and validation loss')\n",
    "plt.legend()\n",
    "\n",
    "plt.show()"
   ]
  },
  {
   "attachments": {},
   "cell_type": "markdown",
   "metadata": {},
   "source": [
    "## 해석\n",
    "- 검증 정확도가 확실히 1% 이상 향상  \n",
    "- 학습을 시작한 이후에 바로 과대적합됨"
   ]
  },
  {
   "attachments": {},
   "cell_type": "markdown",
   "metadata": {},
   "source": [
    "# 3. 테스트 데이터로 평가"
   ]
  },
  {
   "cell_type": "code",
   "execution_count": 11,
   "metadata": {},
   "outputs": [
    {
     "name": "stdout",
     "output_type": "stream",
     "text": [
      "Found 1000 images belonging to 2 classes.\n"
     ]
    },
    {
     "name": "stderr",
     "output_type": "stream",
     "text": [
      "/Users/hanhyeongu/miniforge3/envs/hg/lib/python3.8/site-packages/tensorflow/python/keras/engine/training.py:1973: UserWarning: `Model.evaluate_generator` is deprecated and will be removed in a future version. Please use `Model.evaluate`, which supports generators.\n",
      "  warnings.warn('`Model.evaluate_generator` is deprecated and '\n"
     ]
    },
    {
     "name": "stdout",
     "output_type": "stream",
     "text": [
      "test acc: 0.9320000410079956\n"
     ]
    }
   ],
   "source": [
    "test_generator = test_datagen.flow_from_directory(\n",
    "        test_dir,\n",
    "        target_size=(150, 150),\n",
    "        batch_size=20,\n",
    "        class_mode='binary')\n",
    "\n",
    "test_loss, test_acc = model.evaluate_generator(test_generator, steps=50)\n",
    "print('test acc:', test_acc)"
   ]
  },
  {
   "attachments": {},
   "cell_type": "markdown",
   "metadata": {},
   "source": [
    "# 결과\n",
    "- 94%의 정확도를 얻음  "
   ]
  }
 ],
 "metadata": {
  "kernelspec": {
   "display_name": "hg",
   "language": "python",
   "name": "python3"
  },
  "language_info": {
   "codemirror_mode": {
    "name": "ipython",
    "version": 3
   },
   "file_extension": ".py",
   "mimetype": "text/x-python",
   "name": "python",
   "nbconvert_exporter": "python",
   "pygments_lexer": "ipython3",
   "version": "3.8.14 | packaged by conda-forge | (default, Nov 21 2022, 13:21:59) \n[Clang 14.0.6 ]"
  },
  "orig_nbformat": 4,
  "vscode": {
   "interpreter": {
    "hash": "a89b10a71bbbd74c2679eb33295672f2024448b5b6f1a9d866f7fe38b5792374"
   }
  }
 },
 "nbformat": 4,
 "nbformat_minor": 2
}
