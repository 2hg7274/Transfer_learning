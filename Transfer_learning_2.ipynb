{
 "cells": [
  {
   "attachments": {},
   "cell_type": "markdown",
   "metadata": {},
   "source": [
    "# 소규모 데이터셋으로 심층신경망 학습하기 2탄 \n",
    "\n",
    "이번에는 **사전 학습된 모델을 사용하여 정확도 성능을 90%까지 향상**시켜보자.  \n",
    "\n",
    "사용할 사전 훈련 모델은 'VGG16'이며 모델에 대한 구체적인 설명은 [링크](https://dacon.io/forum/405898?dtype=recent)를 통해 확인할 수 있다.  \n",
    "해달 모델을 1400만개의 레이블된 이미지와 1000개의 클래스로 구성된 ImageNet 데이터셋으로 훈련된 모델을 사용하도록 한다.  \n",
    "\n",
    "VGG16 모델은 케라스에 패키지로 포함되어 있어서 이를 간단하게 불러오기만 하면 된다. 케라스에서 사용 가능한 사전 학습 모델은 VGG16 외에도 Xception, Inception V3, ResNet50 등이 있다.  \n",
    "자세한 사항은 [공식문서](https://keras.io/api/applications/)를 통해 확인."
   ]
  },
  {
   "cell_type": "code",
   "execution_count": 1,
   "metadata": {},
   "outputs": [],
   "source": [
    "import os\n",
    "import os.path as osp\n",
    "import numpy as np\n",
    "import matplotlib.pyplot as plt"
   ]
  },
  {
   "attachments": {},
   "cell_type": "markdown",
   "metadata": {},
   "source": [
    "# 사전 학습된 모델로 추론하기\n",
    "### VGG 16 \n",
    "```python\n",
    "tf.keras.applications.VGG16(\n",
    "    include_top=True,\n",
    "    weights=\"imagenet\",\n",
    "    input_tensor=None,\n",
    "    input_shape=None,\n",
    "    pooling=None,\n",
    "    classes=1000,\n",
    "    classifier_activation=\"softmax\",\n",
    ")\n",
    "```\n",
    "\n",
    "- weights: 초기화할 가중치 값  \n",
    "('None': 랜덤 초기화 / 'imagenet': imagenet으로 사전 훈련된 가중치 / path: 가중치 값을 포함한 파일)  \n",
    "- include_top: 최상위 완전 연결 레이어(Fully Connected Layer: FC) 포함/비포함 여부(default=True)  \n",
    "- input_shape: 입력 사이즈"
   ]
  },
  {
   "cell_type": "code",
   "execution_count": 3,
   "metadata": {},
   "outputs": [],
   "source": [
    "from tensorflow.keras.applications import VGG16\n",
    "\n",
    "conv_base = VGG16(\n",
    "    weights='imagenet',\n",
    "    include_top=False,\n",
    "    input_shape=(150,150,3))"
   ]
  },
  {
   "cell_type": "code",
   "execution_count": 4,
   "metadata": {},
   "outputs": [
    {
     "name": "stdout",
     "output_type": "stream",
     "text": [
      "Model: \"vgg16\"\n",
      "_________________________________________________________________\n",
      "Layer (type)                 Output Shape              Param #   \n",
      "=================================================================\n",
      "input_2 (InputLayer)         [(None, 150, 150, 3)]     0         \n",
      "_________________________________________________________________\n",
      "block1_conv1 (Conv2D)        (None, 150, 150, 64)      1792      \n",
      "_________________________________________________________________\n",
      "block1_conv2 (Conv2D)        (None, 150, 150, 64)      36928     \n",
      "_________________________________________________________________\n",
      "block1_pool (MaxPooling2D)   (None, 75, 75, 64)        0         \n",
      "_________________________________________________________________\n",
      "block2_conv1 (Conv2D)        (None, 75, 75, 128)       73856     \n",
      "_________________________________________________________________\n",
      "block2_conv2 (Conv2D)        (None, 75, 75, 128)       147584    \n",
      "_________________________________________________________________\n",
      "block2_pool (MaxPooling2D)   (None, 37, 37, 128)       0         \n",
      "_________________________________________________________________\n",
      "block3_conv1 (Conv2D)        (None, 37, 37, 256)       295168    \n",
      "_________________________________________________________________\n",
      "block3_conv2 (Conv2D)        (None, 37, 37, 256)       590080    \n",
      "_________________________________________________________________\n",
      "block3_conv3 (Conv2D)        (None, 37, 37, 256)       590080    \n",
      "_________________________________________________________________\n",
      "block3_pool (MaxPooling2D)   (None, 18, 18, 256)       0         \n",
      "_________________________________________________________________\n",
      "block4_conv1 (Conv2D)        (None, 18, 18, 512)       1180160   \n",
      "_________________________________________________________________\n",
      "block4_conv2 (Conv2D)        (None, 18, 18, 512)       2359808   \n",
      "_________________________________________________________________\n",
      "block4_conv3 (Conv2D)        (None, 18, 18, 512)       2359808   \n",
      "_________________________________________________________________\n",
      "block4_pool (MaxPooling2D)   (None, 9, 9, 512)         0         \n",
      "_________________________________________________________________\n",
      "block5_conv1 (Conv2D)        (None, 9, 9, 512)         2359808   \n",
      "_________________________________________________________________\n",
      "block5_conv2 (Conv2D)        (None, 9, 9, 512)         2359808   \n",
      "_________________________________________________________________\n",
      "block5_conv3 (Conv2D)        (None, 9, 9, 512)         2359808   \n",
      "_________________________________________________________________\n",
      "block5_pool (MaxPooling2D)   (None, 4, 4, 512)         0         \n",
      "=================================================================\n",
      "Total params: 14,714,688\n",
      "Trainable params: 14,714,688\n",
      "Non-trainable params: 0\n",
      "_________________________________________________________________\n"
     ]
    }
   ],
   "source": [
    "conv_base.summary()"
   ]
  },
  {
   "attachments": {},
   "cell_type": "markdown",
   "metadata": {},
   "source": [
    "# 학습과정\n",
    "\n",
    "1) **데이터 증식을 사용하지 않기**  \n",
    "새로운 이미지를 conv_base에 입력해서 나온 출력을 numpy 배열로 저장 -> 독립된 FC laye에 입력으로 사용하여 분류기 학습시킴  \n",
    "- 새로운 이미지 전체를 conv_base에 한번만 입력하면 되기 때문에 빠르고 비용이 적게 듬  \n",
    "- 하지만 데이터 증식은 사용할 수 없음  \n",
    "\n",
    "</br>  \n",
    "\n",
    "2) **데이터 증식을 사용하기**  \n",
    "conv_base 모델 위에 Dense 층을 쌓아 확장 -> 입력 데이터에서 end-to-end로 전체 모델을 실행  \n",
    "- 모델에 노출된 모든 이미지가 매번 conv_base를 통과하기 때문에 데이터 증식 사용 가능  \n",
    "- 하지만 1)보다 비용 많이 듬  \n",
    "\n",
    "</br>  \n",
    "</br>  \n",
    "<hr>  \n",
    "\n",
    "\n",
    "> Q. 데이터 증식 가능 여부 이유를 잘 모르겠다. 결국 새로운 이미지를 모두 conv_base에 통과시키는 것 아닌가?  \n",
    "\n",
    "A. 데이터 증식을 사용하는 이유는 학습동안 같은 이미지 한번 이상을 절대 보지 않겠다는 의도라고 하고 있다. 1) 방법도 증식을 해서 conv net을 통과시키고 저장해서 사용하면 되겠지만 이렇게 해서는 같은 이미지를 한번 이상 보지 않는다는 의도를 지킬 수가 없다. 단지 그냥 데이터 셋이 더 커진것 뿐이다.  \n",
    "2)는 배치를 구성한 다음 실시간으로 배치에 포함된 이미지를 무작위로 바꿔버리기 때문에 학습동안 같은 이미지가 입력되는 경우가 없어지게 되는 것이다. \n"
   ]
  },
  {
   "attachments": {},
   "cell_type": "markdown",
   "metadata": {},
   "source": [
    "## 1) 데이터 증식을 사용하지 않기"
   ]
  },
  {
   "cell_type": "code",
   "execution_count": 5,
   "metadata": {},
   "outputs": [
    {
     "name": "stdout",
     "output_type": "stream",
     "text": [
      "Found 2000 images belonging to 2 classes.\n"
     ]
    },
    {
     "name": "stderr",
     "output_type": "stream",
     "text": [
      "2022-12-19 13:21:23.441913: I tensorflow/compiler/mlir/mlir_graph_optimization_pass.cc:176] None of the MLIR Optimization Passes are enabled (registered 2)\n",
      "2022-12-19 13:21:23.442101: W tensorflow/core/platform/profile_utils/cpu_utils.cc:128] Failed to get CPU frequency: 0 Hz\n",
      "2022-12-19 13:21:23.495560: I tensorflow/core/grappler/optimizers/custom_graph_optimizer_registry.cc:112] Plugin optimizer for device_type GPU is enabled.\n"
     ]
    },
    {
     "name": "stdout",
     "output_type": "stream",
     "text": [
      "Found 1000 images belonging to 2 classes.\n",
      "Found 1000 images belonging to 2 classes.\n"
     ]
    }
   ],
   "source": [
    "# conv_base 출력 저장하기\n",
    "from tensorflow.keras.preprocessing.image import ImageDataGenerator\n",
    "\n",
    "base_dir = '/Transfer Learning/datasets_small'\n",
    "\n",
    "train_dir = os.path.join(base_dir, 'train')\n",
    "validation_dir = os.path.join(base_dir, 'val')\n",
    "test_dir = os.path.join(base_dir, 'test')\n",
    "\n",
    "datagen = ImageDataGenerator(rescale=1./255)\n",
    "batch_size = 20\n",
    "\n",
    "def extract_features(directory, sample_count):\n",
    "    features = np.zeros(shape=(sample_count,4,4,512))\n",
    "    labels = np.zeros(shape=(sample_count))\n",
    "    generator = datagen.flow_from_directory(\n",
    "        directory,\n",
    "        target_size=(150,150),\n",
    "        batch_size=batch_size,\n",
    "        class_mode='binary')\n",
    "\n",
    "    i = 0\n",
    "    for inputs_batch, labels_batch in generator:\n",
    "        features_batch = conv_base.predict(inputs_batch)\n",
    "        features[i*batch_size:(i+1)*batch_size] = features_batch\n",
    "        labels[i*batch_size:(i+1)*batch_size] = labels_batch\n",
    "        i+=1\n",
    "        if i*batch_size >= sample_count:\n",
    "            # 제너레이터는 루프 안에서 무한하게 데이터를 만들어내므로 모든 이미지를 한 번씩 처리하고 나면 중지\n",
    "            break\n",
    "    return features, labels\n",
    "\n",
    "train_features, train_labels = extract_features(train_dir, 2000)\n",
    "validation_features, validation_labels = extract_features(validation_dir, 1000)\n",
    "test_features, test_labels = extract_features(test_dir, 1000)"
   ]
  },
  {
   "attachments": {},
   "cell_type": "markdown",
   "metadata": {},
   "source": [
    "- 추출된 특성의 크기는 (samples, 4, 4, 512)  \n",
    "- FC 레이어에 입력하기 위해서 (samples, 8192) 크기로 펼침"
   ]
  },
  {
   "cell_type": "code",
   "execution_count": 6,
   "metadata": {},
   "outputs": [],
   "source": [
    "train_features = np.reshape(train_features, (2000, 4*4*512))\n",
    "validation_features = np.reshape(validation_features, (1000, 4*4*512))\n",
    "test_features = np.reshape(test_features, (1000, 4*4*512))"
   ]
  },
  {
   "attachments": {},
   "cell_type": "markdown",
   "metadata": {},
   "source": [
    "- FC 레이어를 정의하고(규제를 위해 드롭아웃 사용) 저장된 데이터와 레이블을 사용해 훈련"
   ]
  },
  {
   "cell_type": "code",
   "execution_count": 8,
   "metadata": {},
   "outputs": [
    {
     "name": "stdout",
     "output_type": "stream",
     "text": [
      "Epoch 1/30\n"
     ]
    },
    {
     "name": "stderr",
     "output_type": "stream",
     "text": [
      "2022-12-19 13:28:09.760659: I tensorflow/core/grappler/optimizers/custom_graph_optimizer_registry.cc:112] Plugin optimizer for device_type GPU is enabled.\n"
     ]
    },
    {
     "name": "stdout",
     "output_type": "stream",
     "text": [
      "100/100 [==============================] - 1s 10ms/step - loss: 0.5932 - acc: 0.6770 - val_loss: 0.4430 - val_acc: 0.8420\n",
      "Epoch 2/30\n",
      "  1/100 [..............................] - ETA: 0s - loss: 0.3363 - acc: 0.9500"
     ]
    },
    {
     "name": "stderr",
     "output_type": "stream",
     "text": [
      "2022-12-19 13:28:10.896329: I tensorflow/core/grappler/optimizers/custom_graph_optimizer_registry.cc:112] Plugin optimizer for device_type GPU is enabled.\n"
     ]
    },
    {
     "name": "stdout",
     "output_type": "stream",
     "text": [
      "100/100 [==============================] - 1s 8ms/step - loss: 0.4147 - acc: 0.8195 - val_loss: 0.3604 - val_acc: 0.8670\n",
      "Epoch 3/30\n",
      "100/100 [==============================] - 1s 8ms/step - loss: 0.3436 - acc: 0.8525 - val_loss: 0.3198 - val_acc: 0.8800\n",
      "Epoch 4/30\n",
      "100/100 [==============================] - 1s 8ms/step - loss: 0.2984 - acc: 0.8785 - val_loss: 0.3163 - val_acc: 0.8710\n",
      "Epoch 5/30\n",
      "100/100 [==============================] - 1s 8ms/step - loss: 0.2719 - acc: 0.8945 - val_loss: 0.2824 - val_acc: 0.8900\n",
      "Epoch 6/30\n",
      "100/100 [==============================] - 1s 9ms/step - loss: 0.2548 - acc: 0.9030 - val_loss: 0.2939 - val_acc: 0.8790\n",
      "Epoch 7/30\n",
      "100/100 [==============================] - 1s 8ms/step - loss: 0.2393 - acc: 0.9115 - val_loss: 0.2687 - val_acc: 0.8940\n",
      "Epoch 8/30\n",
      "100/100 [==============================] - 1s 8ms/step - loss: 0.2206 - acc: 0.9190 - val_loss: 0.2635 - val_acc: 0.8960\n",
      "Epoch 9/30\n",
      "100/100 [==============================] - 1s 9ms/step - loss: 0.2036 - acc: 0.9250 - val_loss: 0.2557 - val_acc: 0.8980\n",
      "Epoch 10/30\n",
      "100/100 [==============================] - 1s 8ms/step - loss: 0.1947 - acc: 0.9300 - val_loss: 0.2598 - val_acc: 0.8920\n",
      "Epoch 11/30\n",
      "100/100 [==============================] - 1s 9ms/step - loss: 0.1840 - acc: 0.9370 - val_loss: 0.2500 - val_acc: 0.8980\n",
      "Epoch 12/30\n",
      "100/100 [==============================] - 1s 9ms/step - loss: 0.1788 - acc: 0.9350 - val_loss: 0.2567 - val_acc: 0.8970\n",
      "Epoch 13/30\n",
      "100/100 [==============================] - 1s 8ms/step - loss: 0.1650 - acc: 0.9400 - val_loss: 0.2491 - val_acc: 0.8980\n",
      "Epoch 14/30\n",
      "100/100 [==============================] - 1s 8ms/step - loss: 0.1598 - acc: 0.9500 - val_loss: 0.2467 - val_acc: 0.8990\n",
      "Epoch 15/30\n",
      "100/100 [==============================] - 1s 9ms/step - loss: 0.1539 - acc: 0.9460 - val_loss: 0.2467 - val_acc: 0.8970\n",
      "Epoch 16/30\n",
      "100/100 [==============================] - 1s 9ms/step - loss: 0.1421 - acc: 0.9535 - val_loss: 0.2599 - val_acc: 0.8930\n",
      "Epoch 17/30\n",
      "100/100 [==============================] - 1s 9ms/step - loss: 0.1380 - acc: 0.9495 - val_loss: 0.2435 - val_acc: 0.8990\n",
      "Epoch 18/30\n",
      "100/100 [==============================] - 1s 9ms/step - loss: 0.1309 - acc: 0.9565 - val_loss: 0.2597 - val_acc: 0.8960\n",
      "Epoch 19/30\n",
      "100/100 [==============================] - 1s 9ms/step - loss: 0.1231 - acc: 0.9595 - val_loss: 0.2384 - val_acc: 0.8990\n",
      "Epoch 20/30\n",
      "100/100 [==============================] - 1s 9ms/step - loss: 0.1222 - acc: 0.9610 - val_loss: 0.2532 - val_acc: 0.8960\n",
      "Epoch 21/30\n",
      "100/100 [==============================] - 1s 9ms/step - loss: 0.1149 - acc: 0.9625 - val_loss: 0.2416 - val_acc: 0.8960\n",
      "Epoch 22/30\n",
      "100/100 [==============================] - 1s 10ms/step - loss: 0.1117 - acc: 0.9660 - val_loss: 0.2573 - val_acc: 0.8970\n",
      "Epoch 23/30\n",
      "100/100 [==============================] - 1s 9ms/step - loss: 0.1069 - acc: 0.9650 - val_loss: 0.2613 - val_acc: 0.8930\n",
      "Epoch 24/30\n",
      "100/100 [==============================] - 1s 9ms/step - loss: 0.1017 - acc: 0.9635 - val_loss: 0.2505 - val_acc: 0.8980\n",
      "Epoch 25/30\n",
      "100/100 [==============================] - 1s 9ms/step - loss: 0.0981 - acc: 0.9695 - val_loss: 0.2483 - val_acc: 0.8960\n",
      "Epoch 26/30\n",
      "100/100 [==============================] - 1s 9ms/step - loss: 0.0930 - acc: 0.9695 - val_loss: 0.2419 - val_acc: 0.9030\n",
      "Epoch 27/30\n",
      "100/100 [==============================] - 1s 9ms/step - loss: 0.0896 - acc: 0.9740 - val_loss: 0.2474 - val_acc: 0.8960\n",
      "Epoch 28/30\n",
      "100/100 [==============================] - 1s 9ms/step - loss: 0.0842 - acc: 0.9775 - val_loss: 0.2667 - val_acc: 0.8940\n",
      "Epoch 29/30\n",
      "100/100 [==============================] - 1s 9ms/step - loss: 0.0818 - acc: 0.9790 - val_loss: 0.3112 - val_acc: 0.8800\n",
      "Epoch 30/30\n",
      "100/100 [==============================] - 1s 9ms/step - loss: 0.0774 - acc: 0.9805 - val_loss: 0.2440 - val_acc: 0.9010\n"
     ]
    }
   ],
   "source": [
    "from tensorflow.keras import models, layers\n",
    "from tensorflow.keras import optimizers\n",
    "\n",
    "model = models.Sequential()\n",
    "model.add(layers.Dense(256, activation='relu', input_dim=4*4*512))\n",
    "model.add(layers.Dropout(0.5))\n",
    "model.add(layers.Dense(1, activation='sigmoid'))\n",
    "\n",
    "model.compile(\n",
    "    optimizer=optimizers.RMSprop(learning_rate=2e-5),\n",
    "    loss='binary_crossentropy',\n",
    "    metrics=['acc'])\n",
    "\n",
    "history = model.fit(\n",
    "    train_features, train_labels,\n",
    "    epochs=30,\n",
    "    batch_size=20,\n",
    "    validation_data=(validation_features, validation_labels))"
   ]
  },
  {
   "attachments": {},
   "cell_type": "markdown",
   "metadata": {},
   "source": [
    "- 두 개의 Dense 층만 처리하면 되기 때문에 훈련이 매우 빠름"
   ]
  },
  {
   "cell_type": "code",
   "execution_count": 9,
   "metadata": {},
   "outputs": [
    {
     "data": {
      "image/png": "[encoded data removed]",
      "text/plain": [
       "<Figure size 640x480 with 1 Axes>"
      ]
     },
     "metadata": {},
     "output_type": "display_data"
    },
    {
     "data": {
      "image/png": "[encoded data removed]",
      "text/plain": [
       "<Figure size 640x480 with 1 Axes>"
      ]
     },
     "metadata": {},
     "output_type": "display_data"
    }
   ],
   "source": [
    "# 시각화\n",
    "acc = history.history['acc']\n",
    "val_acc = history.history['val_acc']\n",
    "loss = history.history['loss']\n",
    "val_loss = history.history['val_loss']\n",
    "\n",
    "epochs = range(len(acc))\n",
    "\n",
    "plt.plot(epochs, acc, 'bo', label='Training acc')\n",
    "plt.plot(epochs, val_acc, 'b', label='Validation acc')\n",
    "plt.title('Training and validation accuracy')\n",
    "plt.legend()\n",
    "\n",
    "plt.figure()\n",
    "\n",
    "plt.plot(epochs, loss, 'bo', label='Training loss')\n",
    "plt.plot(epochs, val_loss, 'b', label='Validation loss')\n",
    "plt.title('Training and validation loss')\n",
    "plt.legend()\n",
    "\n",
    "plt.show()"
   ]
  },
  {
   "attachments": {},
   "cell_type": "markdown",
   "metadata": {},
   "source": [
    "## 해석\n",
    "- 검증 정확도 90% 도달  \n",
    "- 이전 편에서 훈련시킨 기본 모델에서 얻은 결과보다 훨씬 좋음  \n",
    "- 하지만 훈련이 시작하면서 바로 과대적합 발생(너무 큰 구조에 작은 데이터를 입력하였기 때문에 -> 데이터 증폭 사용 -> 방식 2))"
   ]
  },
  {
   "attachments": {},
   "cell_type": "markdown",
   "metadata": {},
   "source": [
    "## 2) 데이터 증식 사용하기 "
   ]
  },
  {
   "cell_type": "code",
   "execution_count": 10,
   "metadata": {},
   "outputs": [],
   "source": [
    "model = models.Sequential()\n",
    "model.add(conv_base)\n",
    "model.add(layers.Flatten())\n",
    "model.add(layers.Dense(256, activation='relu'))\n",
    "model.add(layers.Dense(1, activation='sigmoid'))"
   ]
  },
  {
   "cell_type": "code",
   "execution_count": 11,
   "metadata": {},
   "outputs": [
    {
     "name": "stdout",
     "output_type": "stream",
     "text": [
      "Model: \"sequential_1\"\n",
      "_________________________________________________________________\n",
      "Layer (type)                 Output Shape              Param #   \n",
      "=================================================================\n",
      "vgg16 (Functional)           (None, 4, 4, 512)         14714688  \n",
      "_________________________________________________________________\n",
      "flatten (Flatten)            (None, 8192)              0         \n",
      "_________________________________________________________________\n",
      "dense_2 (Dense)              (None, 256)               2097408   \n",
      "_________________________________________________________________\n",
      "dense_3 (Dense)              (None, 1)                 257       \n",
      "=================================================================\n",
      "Total params: 16,812,353\n",
      "Trainable params: 16,812,353\n",
      "Non-trainable params: 0\n",
      "_________________________________________________________________\n"
     ]
    }
   ],
   "source": [
    "model.summary()"
   ]
  },
  {
   "attachments": {},
   "cell_type": "markdown",
   "metadata": {},
   "source": [
    "- VGG16의 합성곱 기반층은 14,714,688개의 매우 많은 파라미터를 가지고 있음. 합성곱 기반층 위에 추가한 분류기(Dense)는 이에 비해 적은 2백만개의 파라미터를 가짐.  \n",
    "- 모델을 훈련하기 전에 합성곱 기반층을 동결(freeze)해줌. '동결'은 훈련하는 동안 가중치 업데이트가 되지 않도록 막는 것을 의미.  \n",
    "- 케라스에서는 trainable 속성을 False로 설정하여 네트워크 동결 가능"
   ]
  },
  {
   "cell_type": "code",
   "execution_count": 12,
   "metadata": {},
   "outputs": [
    {
     "name": "stdout",
     "output_type": "stream",
     "text": [
      "conv_base를 동결하기 전 훈련되는 가중치의 수:  30\n"
     ]
    }
   ],
   "source": [
    "print('conv_base를 동결하기 전 훈련되는 가중치의 수: ', len(model.trainable_weights))"
   ]
  },
  {
   "cell_type": "code",
   "execution_count": 13,
   "metadata": {},
   "outputs": [],
   "source": [
    "conv_base.trainable = False"
   ]
  },
  {
   "cell_type": "code",
   "execution_count": 14,
   "metadata": {},
   "outputs": [
    {
     "name": "stdout",
     "output_type": "stream",
     "text": [
      "conv_base를 동결한 후 훈련되는 가중치의 수:  4\n"
     ]
    }
   ],
   "source": [
    "print('conv_base를 동결한 후 훈련되는 가중치의 수: ', len(model.trainable_weights))"
   ]
  },
  {
   "attachments": {},
   "cell_type": "markdown",
   "metadata": {},
   "source": [
    "- 이렇게 설정하면 추가한 두 개의 Dense층의 가중치만 훈련됨.  \n",
    "- 층마다 두 개씩 (가중치 행렬과 편향 벡터) 총 네 개의 텐서가 훈련  \n",
    "- trainable 속성을 변경한 후에 모델 컴파일을 수행"
   ]
  },
  {
   "cell_type": "code",
   "execution_count": 15,
   "metadata": {},
   "outputs": [
    {
     "name": "stdout",
     "output_type": "stream",
     "text": [
      "Found 2000 images belonging to 2 classes.\n",
      "Found 1000 images belonging to 2 classes.\n",
      "Epoch 1/30\n"
     ]
    },
    {
     "name": "stderr",
     "output_type": "stream",
     "text": [
      "/Users/hanhyeongu/miniforge3/envs/hg/lib/python3.8/site-packages/tensorflow/python/keras/engine/training.py:1940: UserWarning: `Model.fit_generator` is deprecated and will be removed in a future version. Please use `Model.fit`, which supports generators.\n",
      "  warnings.warn('`Model.fit_generator` is deprecated and '\n",
      "2022-12-19 13:42:00.501442: I tensorflow/core/grappler/optimizers/custom_graph_optimizer_registry.cc:112] Plugin optimizer for device_type GPU is enabled.\n",
      "2022-12-19 13:42:08.970977: I tensorflow/core/grappler/optimizers/custom_graph_optimizer_registry.cc:112] Plugin optimizer for device_type GPU is enabled.\n"
     ]
    },
    {
     "name": "stdout",
     "output_type": "stream",
     "text": [
      "100/100 - 13s - loss: 0.5606 - acc: 0.7240 - val_loss: 0.4167 - val_acc: 0.8510\n",
      "Epoch 2/30\n",
      "100/100 - 12s - loss: 0.4106 - acc: 0.8285 - val_loss: 0.3366 - val_acc: 0.8750\n",
      "Epoch 3/30\n",
      "100/100 - 12s - loss: 0.3534 - acc: 0.8620 - val_loss: 0.3004 - val_acc: 0.8900\n",
      "Epoch 4/30\n",
      "100/100 - 12s - loss: 0.3227 - acc: 0.8645 - val_loss: 0.2824 - val_acc: 0.8950\n",
      "Epoch 5/30\n",
      "100/100 - 12s - loss: 0.3042 - acc: 0.8785 - val_loss: 0.2694 - val_acc: 0.8980\n",
      "Epoch 6/30\n",
      "100/100 - 12s - loss: 0.2925 - acc: 0.8745 - val_loss: 0.2801 - val_acc: 0.8900\n",
      "Epoch 7/30\n",
      "100/100 - 12s - loss: 0.2735 - acc: 0.8915 - val_loss: 0.2544 - val_acc: 0.9010\n",
      "Epoch 8/30\n",
      "100/100 - 12s - loss: 0.2716 - acc: 0.8900 - val_loss: 0.2598 - val_acc: 0.8950\n",
      "Epoch 9/30\n",
      "100/100 - 12s - loss: 0.2548 - acc: 0.9055 - val_loss: 0.2460 - val_acc: 0.9080\n",
      "Epoch 10/30\n",
      "100/100 - 12s - loss: 0.2530 - acc: 0.9000 - val_loss: 0.2421 - val_acc: 0.9060\n",
      "Epoch 11/30\n",
      "100/100 - 12s - loss: 0.2441 - acc: 0.9045 - val_loss: 0.2411 - val_acc: 0.9000\n",
      "Epoch 12/30\n",
      "100/100 - 12s - loss: 0.2419 - acc: 0.9020 - val_loss: 0.2461 - val_acc: 0.9000\n",
      "Epoch 13/30\n",
      "100/100 - 12s - loss: 0.2470 - acc: 0.8940 - val_loss: 0.2362 - val_acc: 0.9070\n",
      "Epoch 14/30\n",
      "100/100 - 12s - loss: 0.2337 - acc: 0.9105 - val_loss: 0.2500 - val_acc: 0.9020\n",
      "Epoch 15/30\n",
      "100/100 - 12s - loss: 0.2311 - acc: 0.9085 - val_loss: 0.2437 - val_acc: 0.9050\n",
      "Epoch 16/30\n",
      "100/100 - 12s - loss: 0.2232 - acc: 0.9100 - val_loss: 0.2380 - val_acc: 0.9090\n",
      "Epoch 17/30\n",
      "100/100 - 12s - loss: 0.2239 - acc: 0.9115 - val_loss: 0.2390 - val_acc: 0.9000\n",
      "Epoch 18/30\n",
      "100/100 - 12s - loss: 0.2123 - acc: 0.9170 - val_loss: 0.2333 - val_acc: 0.9080\n",
      "Epoch 19/30\n",
      "100/100 - 12s - loss: 0.2192 - acc: 0.9075 - val_loss: 0.2347 - val_acc: 0.9100\n",
      "Epoch 20/30\n",
      "100/100 - 12s - loss: 0.2057 - acc: 0.9165 - val_loss: 0.2372 - val_acc: 0.9070\n",
      "Epoch 21/30\n",
      "100/100 - 12s - loss: 0.2055 - acc: 0.9215 - val_loss: 0.2330 - val_acc: 0.9120\n",
      "Epoch 22/30\n",
      "100/100 - 12s - loss: 0.2078 - acc: 0.9215 - val_loss: 0.2324 - val_acc: 0.9130\n",
      "Epoch 23/30\n",
      "100/100 - 12s - loss: 0.1989 - acc: 0.9260 - val_loss: 0.2352 - val_acc: 0.9040\n",
      "Epoch 24/30\n",
      "100/100 - 12s - loss: 0.1983 - acc: 0.9235 - val_loss: 0.2330 - val_acc: 0.9060\n",
      "Epoch 25/30\n",
      "100/100 - 12s - loss: 0.1972 - acc: 0.9180 - val_loss: 0.2341 - val_acc: 0.9150\n",
      "Epoch 26/30\n",
      "100/100 - 12s - loss: 0.1915 - acc: 0.9215 - val_loss: 0.2403 - val_acc: 0.9080\n",
      "Epoch 27/30\n",
      "100/100 - 12s - loss: 0.2027 - acc: 0.9190 - val_loss: 0.2387 - val_acc: 0.9010\n",
      "Epoch 28/30\n",
      "100/100 - 12s - loss: 0.1790 - acc: 0.9320 - val_loss: 0.2346 - val_acc: 0.9140\n",
      "Epoch 29/30\n",
      "100/100 - 12s - loss: 0.1840 - acc: 0.9285 - val_loss: 0.2375 - val_acc: 0.9030\n",
      "Epoch 30/30\n",
      "100/100 - 12s - loss: 0.1904 - acc: 0.9220 - val_loss: 0.2449 - val_acc: 0.9020\n"
     ]
    }
   ],
   "source": [
    "# 모델 훈련\n",
    "train_datagen = ImageDataGenerator(\n",
    "    rescale=1./255,\n",
    "    rotation_range=20, \n",
    "    width_shift_range=0.1,\n",
    "    height_shift_range=0.1,\n",
    "    shear_range=0.1,\n",
    "    zoom_range=0.1,\n",
    "    horizontal_flip=True,\n",
    "    fill_mode='nearest')\n",
    "\n",
    "test_datagen = ImageDataGenerator(rescale=1./255)\n",
    "\n",
    "\n",
    "train_generator = train_datagen.flow_from_directory(\n",
    "    train_dir, \n",
    "    target_size=(150,150),\n",
    "    batch_size=20, \n",
    "    class_mode='binary')\n",
    "\n",
    "validation_generator = test_datagen.flow_from_directory(\n",
    "    validation_dir, \n",
    "    target_size=(150,150),\n",
    "    batch_size=20, \n",
    "    class_mode='binary')\n",
    "\n",
    "\n",
    "model.compile(\n",
    "    optimizer=optimizers.RMSprop(learning_rate=2e-5),\n",
    "    loss='binary_crossentropy',\n",
    "    metrics=['acc'])\n",
    "\n",
    "history = model.fit_generator(\n",
    "    train_generator,\n",
    "    steps_per_epoch=100, \n",
    "    epochs=30, \n",
    "    validation_data=validation_generator,\n",
    "    validation_steps=50, \n",
    "    verbose=2)"
   ]
  },
  {
   "cell_type": "code",
   "execution_count": 16,
   "metadata": {},
   "outputs": [],
   "source": [
    "model.save('./cats_and_dogs_small_3.h5')"
   ]
  },
  {
   "cell_type": "code",
   "execution_count": 17,
   "metadata": {},
   "outputs": [
    {
     "data": {
      "image/png": "[encoded data removed]",
      "text/plain": [
       "<Figure size 640x480 with 1 Axes>"
      ]
     },
     "metadata": {},
     "output_type": "display_data"
    },
    {
     "data": {
      "image/png": "[encoded data removed]",
      "text/plain": [
       "<Figure size 640x480 with 1 Axes>"
      ]
     },
     "metadata": {},
     "output_type": "display_data"
    }
   ],
   "source": [
    "# 시각화\n",
    "acc = history.history['acc']\n",
    "val_acc = history.history['val_acc']\n",
    "loss = history.history['loss']\n",
    "val_loss = history.history['val_loss']\n",
    "\n",
    "epochs = range(len(acc))\n",
    "\n",
    "plt.plot(epochs, acc, 'bo', label='Training acc')\n",
    "plt.plot(epochs, val_acc, 'b', label='Validation acc')\n",
    "plt.title('Training and validation accuracy')\n",
    "plt.legend()\n",
    "\n",
    "plt.figure()\n",
    "\n",
    "plt.plot(epochs, loss, 'bo', label='Training loss')\n",
    "plt.plot(epochs, val_loss, 'b', label='Validation loss')\n",
    "plt.title('Training and validation loss')\n",
    "plt.legend()\n",
    "\n",
    "plt.show()"
   ]
  },
  {
   "attachments": {},
   "cell_type": "markdown",
   "metadata": {},
   "source": [
    "## 해석\n",
    "- 검증 정확도가 90%로 이전과 비슷하지만 데이터 증식시키지 않은 모델보다는 과대적합이 줄어듬  \n",
    "\n",
    "# 마무리\n",
    "사전 학습된 모델을 사용해서 강아지/고양이 분류기를 만들어 보았다.  \n",
    "사전 학습된 모델을 사용하는데 있어서 두 가지 방식이 있는데 하나는 데이터 증폭을 사용하지 않는 방식이며, 다른 하나는 데이터 증폭을 사용할 수 있는 방식이다. "
   ]
  }
 ],
 "metadata": {
  "kernelspec": {
   "display_name": "hg",
   "language": "python",
   "name": "python3"
  },
  "language_info": {
   "codemirror_mode": {
    "name": "ipython",
    "version": 3
   },
   "file_extension": ".py",
   "mimetype": "text/x-python",
   "name": "python",
   "nbconvert_exporter": "python",
   "pygments_lexer": "ipython3",
   "version": "3.8.14 | packaged by conda-forge | (default, Nov 21 2022, 13:21:59) \n[Clang 14.0.6 ]"
  },
  "orig_nbformat": 4,
  "vscode": {
   "interpreter": {
    "hash": "a89b10a71bbbd74c2679eb33295672f2024448b5b6f1a9d866f7fe38b5792374"
   }
  }
 },
 "nbformat": 4,
 "nbformat_minor": 2
}
